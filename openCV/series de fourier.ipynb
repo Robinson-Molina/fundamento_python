{
 "cells": [
  {
   "cell_type": "markdown",
   "id": "c1dafa05",
   "metadata": {},
   "source": [
    "# Series de fourier"
   ]
  },
  {
   "cell_type": "code",
   "execution_count": 1,
   "id": "e68380c9",
   "metadata": {},
   "outputs": [],
   "source": [
    "import numpy as np\n",
    "from scipy import signal as sp\n",
    "import matplotlib.pylab as plt"
   ]
  },
  {
   "cell_type": "code",
   "execution_count": 2,
   "id": "41ad9fd0",
   "metadata": {},
   "outputs": [],
   "source": [
    "amplitud = 1"
   ]
  },
  {
   "cell_type": "code",
   "execution_count": 3,
   "id": "95930e58",
   "metadata": {},
   "outputs": [],
   "source": [
    "periodo = np.pi"
   ]
  },
  {
   "cell_type": "code",
   "execution_count": 4,
   "id": "a2f1ca2f",
   "metadata": {},
   "outputs": [
    {
     "name": "stdout",
     "output_type": "stream",
     "text": [
      "[-1.    -0.999 -0.998 ...  9.997  9.998  9.999]\n"
     ]
    }
   ],
   "source": [
    "t = np.arange(-1, 10, 0.001)\n",
    "print(t)\n",
    "funcion = ((sp.square(2 * t)) * (amplitud / 2.0)) + (amplitud / 2.0)"
   ]
  },
  {
   "cell_type": "code",
   "execution_count": 5,
   "id": "d8f318a9",
   "metadata": {},
   "outputs": [
    {
     "data": {
      "image/png": "[encoded data removed]",
      "text/plain": [
       "<Figure size 432x288 with 1 Axes>"
      ]
     },
     "metadata": {
      "needs_background": "light"
     },
     "output_type": "display_data"
    }
   ],
   "source": [
    "plt.plot(t, funcion, lw=2)\n",
    "plt.grid()\n",
    "plt.annotate('Pi', xy = (np.pi, 1), xytext = (np.pi, 1.1))\n",
    "plt.annotate('Pi/2', xy = (np.pi/2.0, 1), xytext = (np.pi/2.0, 1.1))\n",
    "plt.ylabel('Amplitud')\n",
    "plt.xlabel('Tiempo(t)')\n",
    "plt.ylim(-1,2)\n",
    "plt.xlim(-0.5, 4)\n",
    "plt.show()"
   ]
  },
  {
   "cell_type": "code",
   "execution_count": 6,
   "id": "47435601",
   "metadata": {},
   "outputs": [],
   "source": [
    "#Importamos todo el modulo sympy\n",
    "from sympy import *\n",
    "#ademas importamos las variables simbolicas 'n' y 't'\n",
    "from sympy.abc import t, n"
   ]
  },
  {
   "cell_type": "code",
   "execution_count": 7,
   "id": "e16b28ff",
   "metadata": {},
   "outputs": [],
   "source": [
    "ao = integrate(2 / pi, (t, 0, pi / 2))\n",
    "#integramos la funcion (2/pi) cuya variable es 't'\n",
    "#y limites de integracion entre 0 y pi/2"
   ]
  },
  {
   "cell_type": "code",
   "execution_count": 8,
   "id": "bbd71281",
   "metadata": {},
   "outputs": [
    {
     "name": "stdout",
     "output_type": "stream",
     "text": [
      "a0 = \n",
      "1\n"
     ]
    }
   ],
   "source": [
    "print (\"a0 = \")\n",
    "pprint(ao)\n",
    "#Usamos la funcion pprint para mostrar ao"
   ]
  },
  {
   "cell_type": "code",
   "execution_count": 9,
   "id": "d36e7337",
   "metadata": {},
   "outputs": [],
   "source": [
    "an = integrate((2 / pi) * cos(2 * n * t), (t, 0, pi / 2))\n",
    "#integramos la funcion (2/pi)*cos(2nt)\n",
    "#Su variable es 't' y sus limites de integracion son 0 y pi/2"
   ]
  },
  {
   "cell_type": "code",
   "execution_count": 10,
   "id": "8f3963a3",
   "metadata": {},
   "outputs": [
    {
     "name": "stdout",
     "output_type": "stream",
     "text": [
      "an = \n",
      "⎧sin(π⋅n)                            \n",
      "⎪────────  for n > -∞ ∧ n < ∞ ∧ n ≠ 0\n",
      "⎨  π⋅n                               \n",
      "⎪                                    \n",
      "⎩   1              otherwise         \n"
     ]
    }
   ],
   "source": [
    "print (\"an = \")\n",
    "pprint(an)\n",
    "#Usamos la funcion pprint para mostrar an"
   ]
  },
  {
   "cell_type": "code",
   "execution_count": 17,
   "id": "45014367",
   "metadata": {},
   "outputs": [],
   "source": [
    "bn = together(integrate((2 / pi) * sin(2 * n * t), (t, 0, pi / 2)))\n",
    "#integramos la funcion (2/pi*cos(2nt)\n",
    "#Su variable es 't' y sus limites de integracion\n",
    "#son 0 y pi/2. Ademas usamos la funcion \"together\"\n",
    "#para simplificar la expresion"
   ]
  },
  {
   "cell_type": "code",
   "execution_count": 18,
   "id": "8d57cc8f",
   "metadata": {},
   "outputs": [
    {
     "name": "stdout",
     "output_type": "stream",
     "text": [
      "bn = \n",
      "⎧  cos(π⋅n)    1                             \n",
      "⎪- ──────── + ───  for n > -∞ ∧ n < ∞ ∧ n ≠ 0\n",
      "⎨    π⋅n      π⋅n                            \n",
      "⎪                                            \n",
      "⎩       0                  otherwise         \n"
     ]
    }
   ],
   "source": [
    "print (\"bn = \")\n",
    "pprint(bn)\n",
    "#Usamos la funcion pprint para mostrar bn"
   ]
  },
  {
   "cell_type": "code",
   "execution_count": 19,
   "id": "46ec05b1",
   "metadata": {},
   "outputs": [
    {
     "name": "stdout",
     "output_type": "stream",
     "text": [
      "f(x) = \n",
      "2⋅sin(2⋅t)   2⋅sin(6⋅t)   2⋅sin(10⋅t)   2⋅sin(14⋅t)   1\n",
      "────────── + ────────── + ─────────── + ─────────── + ─\n",
      "    π           3⋅π           5⋅π           7⋅π       2\n"
     ]
    }
   ],
   "source": [
    "print (\"f(x) = \")\n",
    "\n",
    "series=(ao/2)+\\\n",
    "((an*cos(2*n*t)).subs(n,1))+ \\\n",
    "((an*cos(2*n*t)).subs(n,2))+ \\\n",
    "((an*cos(2*n*t)).subs(n,3))+ \\\n",
    "((an*cos(2*n*t)).subs(n,4))+ \\\n",
    "((an*cos(2*n*t)).subs(n,5))+ \\\n",
    "((an*cos(2*n*t)).subs(n,6))+ \\\n",
    "((an*cos(2*n*t)).subs(n,7))+ \\\n",
    "((bn*sin(2*n*t)).subs(n,1))+ \\\n",
    "((bn*sin(2*n*t)).subs(n,2))+ \\\n",
    "((bn*sin(2*n*t)).subs(n,3))+ \\\n",
    "((bn*sin(2*n*t)).subs(n,4))+ \\\n",
    "((bn*sin(2*n*t)).subs(n,5))+ \\\n",
    "((bn*sin(2*n*t)).subs(n,6))+ \\\n",
    "((bn*sin(2*n*t)).subs(n,7))\n",
    "\n",
    "pprint(series)"
   ]
  },
  {
   "cell_type": "code",
   "execution_count": 20,
   "id": "3fa65341",
   "metadata": {},
   "outputs": [
    {
     "name": "stdout",
     "output_type": "stream",
     "text": [
      "f(x) = \n",
      "2⋅sin(2⋅t)   2⋅sin(6⋅t)   2⋅sin(10⋅t)   2⋅sin(14⋅t)   2⋅sin(18⋅t)   2⋅sin(22⋅t)   2⋅sin(26⋅t)   2⋅sin(30⋅t)   2⋅sin(34⋅t)   2⋅sin(38⋅t)   2⋅si\n",
      "────────── + ────────── + ─────────── + ─────────── + ─────────── + ─────────── + ─────────── + ─────────── + ─────────── + ─────────── + ────\n",
      "    π           3⋅π           5⋅π           7⋅π           9⋅π           11⋅π          13⋅π          15⋅π          17⋅π          19⋅π          \n",
      "\n",
      "n(42⋅t)   2⋅sin(46⋅t)   2⋅sin(50⋅t)   2⋅sin(54⋅t)   2⋅sin(58⋅t)   2⋅sin(62⋅t)   2⋅sin(66⋅t)   2⋅sin(70⋅t)   2⋅sin(74⋅t)   2⋅sin(78⋅t)   2⋅sin(\n",
      "─────── + ─────────── + ─────────── + ─────────── + ─────────── + ─────────── + ─────────── + ─────────── + ─────────── + ─────────── + ──────\n",
      "21⋅π          23⋅π          25⋅π          27⋅π          29⋅π          31⋅π          33⋅π          35⋅π          37⋅π          39⋅π          41\n",
      "\n",
      "82⋅t)   2⋅sin(86⋅t)   2⋅sin(90⋅t)   2⋅sin(94⋅t)   2⋅sin(98⋅t)   2⋅sin(102⋅t)   2⋅sin(106⋅t)   2⋅sin(110⋅t)   2⋅sin(114⋅t)   2⋅sin(118⋅t)   2⋅s\n",
      "───── + ─────────── + ─────────── + ─────────── + ─────────── + ──────────── + ──────────── + ──────────── + ──────────── + ──────────── + ───\n",
      "⋅π          43⋅π          45⋅π          47⋅π          49⋅π          51⋅π           53⋅π           55⋅π           57⋅π           59⋅π          \n",
      "\n",
      "in(122⋅t)   2⋅sin(126⋅t)   2⋅sin(130⋅t)   2⋅sin(134⋅t)   2⋅sin(138⋅t)   2⋅sin(142⋅t)   2⋅sin(146⋅t)   2⋅sin(150⋅t)   2⋅sin(154⋅t)   2⋅sin(158⋅\n",
      "───────── + ──────────── + ──────────── + ──────────── + ──────────── + ──────────── + ──────────── + ──────────── + ──────────── + ──────────\n",
      " 61⋅π           63⋅π           65⋅π           67⋅π           69⋅π           71⋅π           73⋅π           75⋅π           77⋅π           79⋅π  \n",
      "\n",
      "t)   2⋅sin(162⋅t)   2⋅sin(166⋅t)   2⋅sin(170⋅t)   2⋅sin(174⋅t)   2⋅sin(178⋅t)   2⋅sin(182⋅t)   2⋅sin(186⋅t)   2⋅sin(190⋅t)   2⋅sin(194⋅t)   2⋅\n",
      "── + ──────────── + ──────────── + ──────────── + ──────────── + ──────────── + ──────────── + ──────────── + ──────────── + ──────────── + ──\n",
      "         81⋅π           83⋅π           85⋅π           87⋅π           89⋅π           91⋅π           93⋅π           95⋅π           97⋅π         \n",
      "\n",
      "sin(198⋅t)   2⋅sin(202⋅t)   2⋅sin(206⋅t)   2⋅sin(210⋅t)   2⋅sin(214⋅t)   2⋅sin(218⋅t)   2⋅sin(222⋅t)   2⋅sin(226⋅t)   2⋅sin(230⋅t)   2⋅sin(234\n",
      "────────── + ──────────── + ──────────── + ──────────── + ──────────── + ──────────── + ──────────── + ──────────── + ──────────── + ─────────\n",
      "  99⋅π          101⋅π          103⋅π          105⋅π          107⋅π          109⋅π          111⋅π          113⋅π          115⋅π          117⋅π \n",
      "\n",
      "⋅t)   2⋅sin(238⋅t)   2⋅sin(242⋅t)   2⋅sin(246⋅t)   2⋅sin(250⋅t)   2⋅sin(254⋅t)   2⋅sin(258⋅t)   2⋅sin(262⋅t)   2⋅sin(266⋅t)   2⋅sin(270⋅t)   2\n",
      "─── + ──────────── + ──────────── + ──────────── + ──────────── + ──────────── + ──────────── + ──────────── + ──────────── + ──────────── + ─\n",
      "         119⋅π          121⋅π          123⋅π          125⋅π          127⋅π          129⋅π          131⋅π          133⋅π          135⋅π        \n",
      "\n",
      "⋅sin(274⋅t)   2⋅sin(278⋅t)   2⋅sin(282⋅t)   2⋅sin(286⋅t)   2⋅sin(290⋅t)   2⋅sin(294⋅t)   2⋅sin(298⋅t)   2⋅sin(302⋅t)   2⋅sin(306⋅t)   2⋅sin(31\n",
      "─────────── + ──────────── + ──────────── + ──────────── + ──────────── + ──────────── + ──────────── + ──────────── + ──────────── + ────────\n",
      "  137⋅π          139⋅π          141⋅π          143⋅π          145⋅π          147⋅π          149⋅π          151⋅π          153⋅π          155⋅π\n",
      "\n",
      "0⋅t)   2⋅sin(314⋅t)   2⋅sin(318⋅t)   2⋅sin(322⋅t)   2⋅sin(326⋅t)   2⋅sin(330⋅t)   2⋅sin(334⋅t)   2⋅sin(338⋅t)   2⋅sin(342⋅t)   2⋅sin(346⋅t)   \n",
      "──── + ──────────── + ──────────── + ──────────── + ──────────── + ──────────── + ──────────── + ──────────── + ──────────── + ──────────── + \n",
      "          157⋅π          159⋅π          161⋅π          163⋅π          165⋅π          167⋅π          169⋅π          171⋅π          173⋅π       \n",
      "\n",
      "2⋅sin(350⋅t)   2⋅sin(354⋅t)   2⋅sin(358⋅t)   2⋅sin(362⋅t)   2⋅sin(366⋅t)   2⋅sin(370⋅t)   2⋅sin(374⋅t)   2⋅sin(378⋅t)   2⋅sin(382⋅t)   2⋅sin(3\n",
      "──────────── + ──────────── + ──────────── + ──────────── + ──────────── + ──────────── + ──────────── + ──────────── + ──────────── + ───────\n",
      "   175⋅π          177⋅π          179⋅π          181⋅π          183⋅π          185⋅π          187⋅π          189⋅π          191⋅π          193⋅\n",
      "\n",
      "86⋅t)   2⋅sin(390⋅t)   2⋅sin(394⋅t)   2⋅sin(398⋅t)   2⋅sin(402⋅t)   2⋅sin(406⋅t)   2⋅sin(410⋅t)   2⋅sin(414⋅t)   2⋅sin(418⋅t)   2⋅sin(422⋅t)  \n",
      "───── + ──────────── + ──────────── + ──────────── + ──────────── + ──────────── + ──────────── + ──────────── + ──────────── + ──────────── +\n",
      "π          195⋅π          197⋅π          199⋅π          201⋅π          203⋅π          205⋅π          207⋅π          209⋅π          211⋅π      \n",
      "\n",
      " 2⋅sin(426⋅t)   2⋅sin(430⋅t)   2⋅sin(434⋅t)   2⋅sin(438⋅t)   2⋅sin(442⋅t)   2⋅sin(446⋅t)   2⋅sin(450⋅t)   2⋅sin(454⋅t)   2⋅sin(458⋅t)   2⋅sin(\n",
      " ──────────── + ──────────── + ──────────── + ──────────── + ──────────── + ──────────── + ──────────── + ──────────── + ──────────── + ──────\n",
      "    213⋅π          215⋅π          217⋅π          219⋅π          221⋅π          223⋅π          225⋅π          227⋅π          229⋅π          231\n",
      "\n",
      "462⋅t)   2⋅sin(466⋅t)   2⋅sin(470⋅t)   2⋅sin(474⋅t)   2⋅sin(478⋅t)   2⋅sin(482⋅t)   2⋅sin(486⋅t)   2⋅sin(490⋅t)   2⋅sin(494⋅t)   2⋅sin(498⋅t) \n",
      "────── + ──────────── + ──────────── + ──────────── + ──────────── + ──────────── + ──────────── + ──────────── + ──────────── + ──────────── \n",
      "⋅π          233⋅π          235⋅π          237⋅π          239⋅π          241⋅π          243⋅π          245⋅π          247⋅π          249⋅π     \n",
      "\n",
      "  2⋅sin(502⋅t)   2⋅sin(506⋅t)   2⋅sin(510⋅t)   2⋅sin(514⋅t)   2⋅sin(518⋅t)   2⋅sin(522⋅t)   2⋅sin(526⋅t)   2⋅sin(530⋅t)   2⋅sin(534⋅t)   2⋅sin\n",
      "+ ──────────── + ──────────── + ──────────── + ──────────── + ──────────── + ──────────── + ──────────── + ──────────── + ──────────── + ─────\n",
      "     251⋅π          253⋅π          255⋅π          257⋅π          259⋅π          261⋅π          263⋅π          265⋅π          267⋅π          26\n",
      "\n",
      "(538⋅t)   2⋅sin(542⋅t)   2⋅sin(546⋅t)   2⋅sin(550⋅t)   2⋅sin(554⋅t)   2⋅sin(558⋅t)   2⋅sin(562⋅t)   2⋅sin(566⋅t)   2⋅sin(570⋅t)   2⋅sin(574⋅t)\n",
      "─────── + ──────────── + ──────────── + ──────────── + ──────────── + ──────────── + ──────────── + ──────────── + ──────────── + ────────────\n",
      "9⋅π          271⋅π          273⋅π          275⋅π          277⋅π          279⋅π          281⋅π          283⋅π          285⋅π          287⋅π    \n",
      "\n",
      "   2⋅sin(578⋅t)   2⋅sin(582⋅t)   2⋅sin(586⋅t)   2⋅sin(590⋅t)   2⋅sin(594⋅t)   2⋅sin(598⋅t)   2⋅sin(602⋅t)   2⋅sin(606⋅t)   2⋅sin(610⋅t)   2⋅si\n",
      " + ──────────── + ──────────── + ──────────── + ──────────── + ──────────── + ──────────── + ──────────── + ──────────── + ──────────── + ────\n",
      "      289⋅π          291⋅π          293⋅π          295⋅π          297⋅π          299⋅π          301⋅π          303⋅π          305⋅π          3\n",
      "\n",
      "n(614⋅t)   2⋅sin(618⋅t)   2⋅sin(622⋅t)   2⋅sin(626⋅t)   2⋅sin(630⋅t)   2⋅sin(634⋅t)   2⋅sin(638⋅t)   2⋅sin(642⋅t)   2⋅sin(646⋅t)   2⋅sin(650⋅t\n",
      "──────── + ──────────── + ──────────── + ──────────── + ──────────── + ──────────── + ──────────── + ──────────── + ──────────── + ───────────\n",
      "07⋅π          309⋅π          311⋅π          313⋅π          315⋅π          317⋅π          319⋅π          321⋅π          323⋅π          325⋅π   \n",
      "\n",
      ")   2⋅sin(654⋅t)   2⋅sin(658⋅t)   2⋅sin(662⋅t)   2⋅sin(666⋅t)   2⋅sin(670⋅t)   2⋅sin(674⋅t)   2⋅sin(678⋅t)   2⋅sin(682⋅t)   2⋅sin(686⋅t)   2⋅s\n",
      "─ + ──────────── + ──────────── + ──────────── + ──────────── + ──────────── + ──────────── + ──────────── + ──────────── + ──────────── + ───\n",
      "       327⋅π          329⋅π          331⋅π          333⋅π          335⋅π          337⋅π          339⋅π          341⋅π          343⋅π          \n",
      "\n",
      "in(690⋅t)   2⋅sin(694⋅t)   2⋅sin(698⋅t)   2⋅sin(702⋅t)   2⋅sin(706⋅t)   2⋅sin(710⋅t)   2⋅sin(714⋅t)   2⋅sin(718⋅t)   2⋅sin(722⋅t)   2⋅sin(726⋅\n",
      "───────── + ──────────── + ──────────── + ──────────── + ──────────── + ──────────── + ──────────── + ──────────── + ──────────── + ──────────\n",
      "345⋅π          347⋅π          349⋅π          351⋅π          353⋅π          355⋅π          357⋅π          359⋅π          361⋅π          363⋅π  \n",
      "\n",
      "t)   2⋅sin(730⋅t)   2⋅sin(734⋅t)   2⋅sin(738⋅t)   2⋅sin(742⋅t)   2⋅sin(746⋅t)   2⋅sin(750⋅t)   2⋅sin(754⋅t)   2⋅sin(758⋅t)   2⋅sin(762⋅t)   2⋅\n",
      "── + ──────────── + ──────────── + ──────────── + ──────────── + ──────────── + ──────────── + ──────────── + ──────────── + ──────────── + ──\n",
      "        365⋅π          367⋅π          369⋅π          371⋅π          373⋅π          375⋅π          377⋅π          379⋅π          381⋅π         \n",
      "\n",
      "sin(766⋅t)   2⋅sin(770⋅t)   2⋅sin(774⋅t)   2⋅sin(778⋅t)   2⋅sin(782⋅t)   2⋅sin(786⋅t)   2⋅sin(790⋅t)   2⋅sin(794⋅t)   2⋅sin(798⋅t)   2⋅sin(802\n",
      "────────── + ──────────── + ──────────── + ──────────── + ──────────── + ──────────── + ──────────── + ──────────── + ──────────── + ─────────\n",
      " 383⋅π          385⋅π          387⋅π          389⋅π          391⋅π          393⋅π          395⋅π          397⋅π          399⋅π          401⋅π \n",
      "\n",
      "⋅t)   2⋅sin(806⋅t)   2⋅sin(810⋅t)   2⋅sin(814⋅t)   2⋅sin(818⋅t)   2⋅sin(822⋅t)   2⋅sin(826⋅t)   2⋅sin(830⋅t)   2⋅sin(834⋅t)   2⋅sin(838⋅t)   2\n",
      "─── + ──────────── + ──────────── + ──────────── + ──────────── + ──────────── + ──────────── + ──────────── + ──────────── + ──────────── + ─\n",
      "         403⋅π          405⋅π          407⋅π          409⋅π          411⋅π          413⋅π          415⋅π          417⋅π          419⋅π        \n",
      "\n",
      "⋅sin(842⋅t)   2⋅sin(846⋅t)   2⋅sin(850⋅t)   2⋅sin(854⋅t)   2⋅sin(858⋅t)   2⋅sin(862⋅t)   2⋅sin(866⋅t)   2⋅sin(870⋅t)   2⋅sin(874⋅t)   2⋅sin(87\n",
      "─────────── + ──────────── + ──────────── + ──────────── + ──────────── + ──────────── + ──────────── + ──────────── + ──────────── + ────────\n",
      "  421⋅π          423⋅π          425⋅π          427⋅π          429⋅π          431⋅π          433⋅π          435⋅π          437⋅π          439⋅π\n",
      "\n",
      "8⋅t)   2⋅sin(882⋅t)   2⋅sin(886⋅t)   2⋅sin(890⋅t)   2⋅sin(894⋅t)   2⋅sin(898⋅t)   2⋅sin(902⋅t)   2⋅sin(906⋅t)   2⋅sin(910⋅t)   2⋅sin(914⋅t)   \n",
      "──── + ──────────── + ──────────── + ──────────── + ──────────── + ──────────── + ──────────── + ──────────── + ──────────── + ──────────── + \n",
      "          441⋅π          443⋅π          445⋅π          447⋅π          449⋅π          451⋅π          453⋅π          455⋅π          457⋅π       \n",
      "\n",
      "2⋅sin(918⋅t)   2⋅sin(922⋅t)   2⋅sin(926⋅t)   2⋅sin(930⋅t)   2⋅sin(934⋅t)   2⋅sin(938⋅t)   2⋅sin(942⋅t)   2⋅sin(946⋅t)   2⋅sin(950⋅t)   2⋅sin(9\n",
      "──────────── + ──────────── + ──────────── + ──────────── + ──────────── + ──────────── + ──────────── + ──────────── + ──────────── + ───────\n",
      "   459⋅π          461⋅π          463⋅π          465⋅π          467⋅π          469⋅π          471⋅π          473⋅π          475⋅π          477⋅\n",
      "\n",
      "54⋅t)   2⋅sin(958⋅t)   2⋅sin(962⋅t)   2⋅sin(966⋅t)   2⋅sin(970⋅t)   2⋅sin(974⋅t)   2⋅sin(978⋅t)   2⋅sin(982⋅t)   2⋅sin(986⋅t)   2⋅sin(990⋅t)  \n",
      "───── + ──────────── + ──────────── + ──────────── + ──────────── + ──────────── + ──────────── + ──────────── + ──────────── + ──────────── +\n",
      "π          479⋅π          481⋅π          483⋅π          485⋅π          487⋅π          489⋅π          491⋅π          493⋅π          495⋅π      \n",
      "\n",
      " 2⋅sin(994⋅t)   2⋅sin(998⋅t)   2⋅sin(1002⋅t)   2⋅sin(1006⋅t)   2⋅sin(1010⋅t)   2⋅sin(1014⋅t)   2⋅sin(1018⋅t)   2⋅sin(1022⋅t)   2⋅sin(1026⋅t)  \n",
      " ──────────── + ──────────── + ───────────── + ───────────── + ───────────── + ───────────── + ───────────── + ───────────── + ───────────── +\n",
      "    497⋅π          499⋅π           501⋅π           503⋅π           505⋅π           507⋅π           509⋅π           511⋅π           513⋅π      \n",
      "\n",
      " 2⋅sin(1030⋅t)   2⋅sin(1034⋅t)   2⋅sin(1038⋅t)   2⋅sin(1042⋅t)   2⋅sin(1046⋅t)   2⋅sin(1050⋅t)   2⋅sin(1054⋅t)   2⋅sin(1058⋅t)   2⋅sin(1062⋅t)\n",
      " ───────────── + ───────────── + ───────────── + ───────────── + ───────────── + ───────────── + ───────────── + ───────────── + ─────────────\n",
      "     515⋅π           517⋅π           519⋅π           521⋅π           523⋅π           525⋅π           527⋅π           529⋅π           531⋅π    \n",
      "\n",
      "   2⋅sin(1066⋅t)   2⋅sin(1070⋅t)   2⋅sin(1074⋅t)   2⋅sin(1078⋅t)   2⋅sin(1082⋅t)   2⋅sin(1086⋅t)   2⋅sin(1090⋅t)   2⋅sin(1094⋅t)   2⋅sin(1098⋅\n",
      " + ───────────── + ───────────── + ───────────── + ───────────── + ───────────── + ───────────── + ───────────── + ───────────── + ───────────\n",
      "       533⋅π           535⋅π           537⋅π           539⋅π           541⋅π           543⋅π           545⋅π           547⋅π           549⋅π  \n",
      "\n",
      "t)   2⋅sin(1102⋅t)   2⋅sin(1106⋅t)   2⋅sin(1110⋅t)   2⋅sin(1114⋅t)   2⋅sin(1118⋅t)   2⋅sin(1122⋅t)   2⋅sin(1126⋅t)   2⋅sin(1130⋅t)   2⋅sin(113\n",
      "── + ───────────── + ───────────── + ───────────── + ───────────── + ───────────── + ───────────── + ───────────── + ───────────── + ─────────\n",
      "         551⋅π           553⋅π           555⋅π           557⋅π           559⋅π           561⋅π           563⋅π           565⋅π           567⋅π\n",
      "\n",
      "4⋅t)   2⋅sin(1138⋅t)   2⋅sin(1142⋅t)   2⋅sin(1146⋅t)   2⋅sin(1150⋅t)   2⋅sin(1154⋅t)   2⋅sin(1158⋅t)   2⋅sin(1162⋅t)   2⋅sin(1166⋅t)   2⋅sin(1\n",
      "──── + ───────────── + ───────────── + ───────────── + ───────────── + ───────────── + ───────────── + ───────────── + ───────────── + ───────\n",
      "           569⋅π           571⋅π           573⋅π           575⋅π           577⋅π           579⋅π           581⋅π           583⋅π           585\n",
      "\n",
      "170⋅t)   2⋅sin(1174⋅t)   2⋅sin(1178⋅t)   2⋅sin(1182⋅t)   2⋅sin(1186⋅t)   2⋅sin(1190⋅t)   2⋅sin(1194⋅t)   2⋅sin(1198⋅t)   2⋅sin(1202⋅t)   2⋅sin\n",
      "────── + ───────────── + ───────────── + ───────────── + ───────────── + ───────────── + ───────────── + ───────────── + ───────────── + ─────\n",
      "⋅π           587⋅π           589⋅π           591⋅π           593⋅π           595⋅π           597⋅π           599⋅π           601⋅π           6\n",
      "\n",
      "(1206⋅t)   2⋅sin(1210⋅t)   2⋅sin(1214⋅t)   2⋅sin(1218⋅t)   2⋅sin(1222⋅t)   2⋅sin(1226⋅t)   2⋅sin(1230⋅t)   2⋅sin(1234⋅t)   2⋅sin(1238⋅t)   2⋅s\n",
      "──────── + ───────────── + ───────────── + ───────────── + ───────────── + ───────────── + ───────────── + ───────────── + ───────────── + ───\n",
      "03⋅π           605⋅π           607⋅π           609⋅π           611⋅π           613⋅π           615⋅π           617⋅π           619⋅π          \n",
      "\n",
      "in(1242⋅t)   2⋅sin(1246⋅t)   2⋅sin(1250⋅t)   2⋅sin(1254⋅t)   2⋅sin(1258⋅t)   2⋅sin(1262⋅t)   2⋅sin(1266⋅t)   2⋅sin(1270⋅t)   2⋅sin(1274⋅t)   2\n",
      "────────── + ───────────── + ───────────── + ───────────── + ───────────── + ───────────── + ───────────── + ───────────── + ───────────── + ─\n",
      " 621⋅π           623⋅π           625⋅π           627⋅π           629⋅π           631⋅π           633⋅π           635⋅π           637⋅π        \n",
      "\n",
      "⋅sin(1278⋅t)   2⋅sin(1282⋅t)   2⋅sin(1286⋅t)   2⋅sin(1290⋅t)   2⋅sin(1294⋅t)   2⋅sin(1298⋅t)   2⋅sin(1302⋅t)   2⋅sin(1306⋅t)   2⋅sin(1310⋅t)  \n",
      "──────────── + ───────────── + ───────────── + ───────────── + ───────────── + ───────────── + ───────────── + ───────────── + ───────────── +\n",
      "   639⋅π           641⋅π           643⋅π           645⋅π           647⋅π           649⋅π           651⋅π           653⋅π           655⋅π      \n",
      "\n",
      " 2⋅sin(1314⋅t)   2⋅sin(1318⋅t)   2⋅sin(1322⋅t)   2⋅sin(1326⋅t)   2⋅sin(1330⋅t)   2⋅sin(1334⋅t)   2⋅sin(1338⋅t)   2⋅sin(1342⋅t)   2⋅sin(1346⋅t)\n",
      " ───────────── + ───────────── + ───────────── + ───────────── + ───────────── + ───────────── + ───────────── + ───────────── + ─────────────\n",
      "     657⋅π           659⋅π           661⋅π           663⋅π           665⋅π           667⋅π           669⋅π           671⋅π           673⋅π    \n",
      "\n",
      "   2⋅sin(1350⋅t)   2⋅sin(1354⋅t)   2⋅sin(1358⋅t)   2⋅sin(1362⋅t)   2⋅sin(1366⋅t)   2⋅sin(1370⋅t)   2⋅sin(1374⋅t)   2⋅sin(1378⋅t)   2⋅sin(1382⋅\n",
      " + ───────────── + ───────────── + ───────────── + ───────────── + ───────────── + ───────────── + ───────────── + ───────────── + ───────────\n",
      "       675⋅π           677⋅π           679⋅π           681⋅π           683⋅π           685⋅π           687⋅π           689⋅π           691⋅π  \n",
      "\n",
      "t)   2⋅sin(1386⋅t)   2⋅sin(1390⋅t)   2⋅sin(1394⋅t)   2⋅sin(1398⋅t)   2⋅sin(1402⋅t)   2⋅sin(1406⋅t)   2⋅sin(1410⋅t)   2⋅sin(1414⋅t)   2⋅sin(141\n",
      "── + ───────────── + ───────────── + ───────────── + ───────────── + ───────────── + ───────────── + ───────────── + ───────────── + ─────────\n",
      "         693⋅π           695⋅π           697⋅π           699⋅π           701⋅π           703⋅π           705⋅π           707⋅π           709⋅π\n",
      "\n",
      "8⋅t)   2⋅sin(1422⋅t)   2⋅sin(1426⋅t)   2⋅sin(1430⋅t)   2⋅sin(1434⋅t)   2⋅sin(1438⋅t)   2⋅sin(1442⋅t)   2⋅sin(1446⋅t)   2⋅sin(1450⋅t)   2⋅sin(1\n",
      "──── + ───────────── + ───────────── + ───────────── + ───────────── + ───────────── + ───────────── + ───────────── + ───────────── + ───────\n",
      "           711⋅π           713⋅π           715⋅π           717⋅π           719⋅π           721⋅π           723⋅π           725⋅π           727\n",
      "\n",
      "454⋅t)   2⋅sin(1458⋅t)   2⋅sin(1462⋅t)   2⋅sin(1466⋅t)   2⋅sin(1470⋅t)   2⋅sin(1474⋅t)   2⋅sin(1478⋅t)   2⋅sin(1482⋅t)   2⋅sin(1486⋅t)   2⋅sin\n",
      "────── + ───────────── + ───────────── + ───────────── + ───────────── + ───────────── + ───────────── + ───────────── + ───────────── + ─────\n",
      "⋅π           729⋅π           731⋅π           733⋅π           735⋅π           737⋅π           739⋅π           741⋅π           743⋅π           7\n",
      "\n",
      "(1490⋅t)   2⋅sin(1494⋅t)   2⋅sin(1498⋅t)   2⋅sin(1502⋅t)   2⋅sin(1506⋅t)   2⋅sin(1510⋅t)   2⋅sin(1514⋅t)   2⋅sin(1518⋅t)   2⋅sin(1522⋅t)   2⋅s\n",
      "──────── + ───────────── + ───────────── + ───────────── + ───────────── + ───────────── + ───────────── + ───────────── + ───────────── + ───\n",
      "45⋅π           747⋅π           749⋅π           751⋅π           753⋅π           755⋅π           757⋅π           759⋅π           761⋅π          \n",
      "\n",
      "in(1526⋅t)   2⋅sin(1530⋅t)   2⋅sin(1534⋅t)   2⋅sin(1538⋅t)   2⋅sin(1542⋅t)   2⋅sin(1546⋅t)   2⋅sin(1550⋅t)   2⋅sin(1554⋅t)   2⋅sin(1558⋅t)   2\n",
      "────────── + ───────────── + ───────────── + ───────────── + ───────────── + ───────────── + ───────────── + ───────────── + ───────────── + ─\n",
      " 763⋅π           765⋅π           767⋅π           769⋅π           771⋅π           773⋅π           775⋅π           777⋅π           779⋅π        \n",
      "\n",
      "⋅sin(1562⋅t)   2⋅sin(1566⋅t)   2⋅sin(1570⋅t)   2⋅sin(1574⋅t)   2⋅sin(1578⋅t)   2⋅sin(1582⋅t)   2⋅sin(1586⋅t)   2⋅sin(1590⋅t)   2⋅sin(1594⋅t)  \n",
      "──────────── + ───────────── + ───────────── + ───────────── + ───────────── + ───────────── + ───────────── + ───────────── + ───────────── +\n",
      "   781⋅π           783⋅π           785⋅π           787⋅π           789⋅π           791⋅π           793⋅π           795⋅π           797⋅π      \n",
      "\n",
      " 2⋅sin(1598⋅t)   2⋅sin(1602⋅t)   2⋅sin(1606⋅t)   2⋅sin(1610⋅t)   2⋅sin(1614⋅t)   2⋅sin(1618⋅t)   2⋅sin(1622⋅t)   2⋅sin(1626⋅t)   2⋅sin(1630⋅t)\n",
      " ───────────── + ───────────── + ───────────── + ───────────── + ───────────── + ───────────── + ───────────── + ───────────── + ─────────────\n",
      "     799⋅π           801⋅π           803⋅π           805⋅π           807⋅π           809⋅π           811⋅π           813⋅π           815⋅π    \n",
      "\n",
      "   2⋅sin(1634⋅t)   2⋅sin(1638⋅t)   2⋅sin(1642⋅t)   2⋅sin(1646⋅t)   2⋅sin(1650⋅t)   2⋅sin(1654⋅t)   2⋅sin(1658⋅t)   2⋅sin(1662⋅t)   2⋅sin(1666⋅\n",
      " + ───────────── + ───────────── + ───────────── + ───────────── + ───────────── + ───────────── + ───────────── + ───────────── + ───────────\n",
      "       817⋅π           819⋅π           821⋅π           823⋅π           825⋅π           827⋅π           829⋅π           831⋅π           833⋅π  \n",
      "\n",
      "t)   2⋅sin(1670⋅t)   2⋅sin(1674⋅t)   2⋅sin(1678⋅t)   2⋅sin(1682⋅t)   2⋅sin(1686⋅t)   2⋅sin(1690⋅t)   2⋅sin(1694⋅t)   2⋅sin(1698⋅t)   2⋅sin(170\n",
      "── + ───────────── + ───────────── + ───────────── + ───────────── + ───────────── + ───────────── + ───────────── + ───────────── + ─────────\n",
      "         835⋅π           837⋅π           839⋅π           841⋅π           843⋅π           845⋅π           847⋅π           849⋅π           851⋅π\n",
      "\n",
      "2⋅t)   2⋅sin(1706⋅t)   2⋅sin(1710⋅t)   2⋅sin(1714⋅t)   2⋅sin(1718⋅t)   2⋅sin(1722⋅t)   2⋅sin(1726⋅t)   2⋅sin(1730⋅t)   2⋅sin(1734⋅t)   2⋅sin(1\n",
      "──── + ───────────── + ───────────── + ───────────── + ───────────── + ───────────── + ───────────── + ───────────── + ───────────── + ───────\n",
      "           853⋅π           855⋅π           857⋅π           859⋅π           861⋅π           863⋅π           865⋅π           867⋅π           869\n",
      "\n",
      "738⋅t)   2⋅sin(1742⋅t)   2⋅sin(1746⋅t)   2⋅sin(1750⋅t)   2⋅sin(1754⋅t)   2⋅sin(1758⋅t)   2⋅sin(1762⋅t)   2⋅sin(1766⋅t)   2⋅sin(1770⋅t)   2⋅sin\n",
      "────── + ───────────── + ───────────── + ───────────── + ───────────── + ───────────── + ───────────── + ───────────── + ───────────── + ─────\n",
      "⋅π           871⋅π           873⋅π           875⋅π           877⋅π           879⋅π           881⋅π           883⋅π           885⋅π           8\n",
      "\n",
      "(1774⋅t)   2⋅sin(1778⋅t)   2⋅sin(1782⋅t)   2⋅sin(1786⋅t)   2⋅sin(1790⋅t)   2⋅sin(1794⋅t)   2⋅sin(1798⋅t)   2⋅sin(1802⋅t)   2⋅sin(1806⋅t)   2⋅s\n",
      "──────── + ───────────── + ───────────── + ───────────── + ───────────── + ───────────── + ───────────── + ───────────── + ───────────── + ───\n",
      "87⋅π           889⋅π           891⋅π           893⋅π           895⋅π           897⋅π           899⋅π           901⋅π           903⋅π          \n",
      "\n",
      "in(1810⋅t)   2⋅sin(1814⋅t)   2⋅sin(1818⋅t)   2⋅sin(1822⋅t)   2⋅sin(1826⋅t)   2⋅sin(1830⋅t)   2⋅sin(1834⋅t)   2⋅sin(1838⋅t)   2⋅sin(1842⋅t)   2\n",
      "────────── + ───────────── + ───────────── + ───────────── + ───────────── + ───────────── + ───────────── + ───────────── + ───────────── + ─\n",
      " 905⋅π           907⋅π           909⋅π           911⋅π           913⋅π           915⋅π           917⋅π           919⋅π           921⋅π        \n",
      "\n",
      "⋅sin(1846⋅t)   2⋅sin(1850⋅t)   2⋅sin(1854⋅t)   2⋅sin(1858⋅t)   2⋅sin(1862⋅t)   2⋅sin(1866⋅t)   2⋅sin(1870⋅t)   2⋅sin(1874⋅t)   2⋅sin(1878⋅t)  \n",
      "──────────── + ───────────── + ───────────── + ───────────── + ───────────── + ───────────── + ───────────── + ───────────── + ───────────── +\n",
      "   923⋅π           925⋅π           927⋅π           929⋅π           931⋅π           933⋅π           935⋅π           937⋅π           939⋅π      \n",
      "\n",
      " 2⋅sin(1882⋅t)   2⋅sin(1886⋅t)   2⋅sin(1890⋅t)   2⋅sin(1894⋅t)   2⋅sin(1898⋅t)   2⋅sin(1902⋅t)   2⋅sin(1906⋅t)   2⋅sin(1910⋅t)   2⋅sin(1914⋅t)\n",
      " ───────────── + ───────────── + ───────────── + ───────────── + ───────────── + ───────────── + ───────────── + ───────────── + ─────────────\n",
      "     941⋅π           943⋅π           945⋅π           947⋅π           949⋅π           951⋅π           953⋅π           955⋅π           957⋅π    \n",
      "\n",
      "   2⋅sin(1918⋅t)   2⋅sin(1922⋅t)   2⋅sin(1926⋅t)   2⋅sin(1930⋅t)   2⋅sin(1934⋅t)   2⋅sin(1938⋅t)   2⋅sin(1942⋅t)   2⋅sin(1946⋅t)   2⋅sin(1950⋅\n",
      " + ───────────── + ───────────── + ───────────── + ───────────── + ───────────── + ───────────── + ───────────── + ───────────── + ───────────\n",
      "       959⋅π           961⋅π           963⋅π           965⋅π           967⋅π           969⋅π           971⋅π           973⋅π           975⋅π  \n",
      "\n",
      "t)   2⋅sin(1954⋅t)   2⋅sin(1958⋅t)   2⋅sin(1962⋅t)   2⋅sin(1966⋅t)   2⋅sin(1970⋅t)   2⋅sin(1974⋅t)   2⋅sin(1978⋅t)   2⋅sin(1982⋅t)   2⋅sin(198\n",
      "── + ───────────── + ───────────── + ───────────── + ───────────── + ───────────── + ───────────── + ───────────── + ───────────── + ─────────\n",
      "         977⋅π           979⋅π           981⋅π           983⋅π           985⋅π           987⋅π           989⋅π           991⋅π           993⋅π\n",
      "\n",
      "6⋅t)   2⋅sin(1990⋅t)   2⋅sin(1994⋅t)   2⋅sin(1998⋅t)   1\n",
      "──── + ───────────── + ───────────── + ───────────── + ─\n",
      "           995⋅π           997⋅π           999⋅π       2\n"
     ]
    }
   ],
   "source": [
    "print (\"f(x) = \")\n",
    "\n",
    "armonicos = 1000\n",
    "serie = (ao/2)\n",
    "for i in range(1, armonicos + 1):\n",
    "    serie = serie + (an*cos(2*n*t)).subs(n, i)\n",
    "for j in range(1, armonicos + 1):\n",
    "    serie = serie + (bn*sin(2*n*t)).subs(n, j)\n",
    "\n",
    "pprint(serie)"
   ]
  },
  {
   "cell_type": "code",
   "execution_count": 21,
   "id": "3f991505",
   "metadata": {},
   "outputs": [
    {
     "data": {
      "image/png": "[encoded data removed]",
      "text/plain": [
       "<Figure size 432x288 with 1 Axes>"
      ]
     },
     "metadata": {
      "needs_background": "light"
     },
     "output_type": "display_data"
    },
    {
     "data": {
      "text/plain": [
       "<sympy.plotting.plot.Plot at 0x7f6430ddce50>"
      ]
     },
     "execution_count": 21,
     "metadata": {},
     "output_type": "execute_result"
    }
   ],
   "source": [
    "plotting.plot(series, ylim=(-0.5, 1.5), xlim=(-0.5,5))"
   ]
  },
  {
   "cell_type": "code",
   "execution_count": 22,
   "id": "8c2524e5",
   "metadata": {},
   "outputs": [
    {
     "data": {
      "image/png": "[encoded data removed]",
      "text/plain": [
       "<Figure size 432x288 with 1 Axes>"
      ]
     },
     "metadata": {
      "needs_background": "light"
     },
     "output_type": "display_data"
    },
    {
     "data": {
      "text/plain": [
       "<sympy.plotting.plot.Plot at 0x7f6430fae6d0>"
      ]
     },
     "execution_count": 22,
     "metadata": {},
     "output_type": "execute_result"
    }
   ],
   "source": [
    "plotting.plot(serie, ylim=(-0.5, 1.5), xlim=(-0.5,5)) #Usando el modulo para graficas de sympy"
   ]
  },
  {
   "cell_type": "code",
   "execution_count": null,
   "id": "10d82bac",
   "metadata": {},
   "outputs": [],
   "source": []
  },
  {
   "cell_type": "code",
   "execution_count": null,
   "id": "33c07113",
   "metadata": {},
   "outputs": [],
   "source": []
  },
  {
   "cell_type": "code",
   "execution_count": null,
   "id": "556365a4",
   "metadata": {},
   "outputs": [],
   "source": []
  },
  {
   "cell_type": "code",
   "execution_count": null,
   "id": "7ff42797",
   "metadata": {},
   "outputs": [],
   "source": []
  },
  {
   "cell_type": "code",
   "execution_count": null,
   "id": "68728ff2",
   "metadata": {},
   "outputs": [],
   "source": []
  }
 ],
 "metadata": {
  "kernelspec": {
   "display_name": "Python 3 (ipykernel)",
   "language": "python",
   "name": "python3"
  },
  "language_info": {
   "codemirror_mode": {
    "name": "ipython",
    "version": 3
   },
   "file_extension": ".py",
   "mimetype": "text/x-python",
   "name": "python",
   "nbconvert_exporter": "python",
   "pygments_lexer": "ipython3",
   "version": "3.7.11"
  }
 },
 "nbformat": 4,
 "nbformat_minor": 5
}
