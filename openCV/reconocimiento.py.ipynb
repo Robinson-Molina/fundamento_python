{
 "cells": [
  {
   "cell_type": "code",
   "execution_count": 12,
   "id": "963a0d4e",
   "metadata": {},
   "outputs": [],
   "source": [
    "import numpy as np\n",
    "import cv2\n",
    "import matplotlib.pyplot as plt\n",
    "import asyncio\n"
   ]
  },
  {
   "cell_type": "code",
   "execution_count": 7,
   "id": "d1481039",
   "metadata": {},
   "outputs": [
    {
     "data": {
      "text/plain": [
       "tuple"
      ]
     },
     "execution_count": 7,
     "metadata": {},
     "output_type": "execute_result"
    }
   ],
   "source": [
    "cursor=(2,3,4,5,6)\n",
    "type(cursor)"
   ]
  },
  {
   "cell_type": "code",
   "execution_count": null,
   "id": "2260ebdd",
   "metadata": {},
   "outputs": [],
   "source": []
  },
  {
   "cell_type": "code",
   "execution_count": null,
   "id": "dcfb7824",
   "metadata": {},
   "outputs": [],
   "source": []
  }
 ],
 "metadata": {
  "interpreter": {
   "hash": "080b3ec13b868c2d5e7f71552dfbb021f184de47da7de94d004165a5d7914faa"
  },
  "kernelspec": {
   "display_name": "Python 3 (ipykernel)",
   "language": "python",
   "name": "python3"
  },
  "language_info": {
   "codemirror_mode": {
    "name": "ipython",
    "version": 3
   },
   "file_extension": ".py",
   "mimetype": "text/x-python",
   "name": "python",
   "nbconvert_exporter": "python",
   "pygments_lexer": "ipython3",
   "version": "3.7.11"
  }
 },
 "nbformat": 4,
 "nbformat_minor": 5
}
